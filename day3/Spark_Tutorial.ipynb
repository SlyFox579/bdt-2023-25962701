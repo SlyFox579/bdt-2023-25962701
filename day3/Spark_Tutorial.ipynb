{
  "cells": [
    {
      "cell_type": "markdown",
      "metadata": {
        "id": "IzuU9m-5XPRc"
      },
      "source": [
        "# Exploring Spark with Pandas\n"
      ]
    },
    {
      "cell_type": "markdown",
      "metadata": {
        "id": "zyzm8ivEXPRm"
      },
      "source": [
        "Using pandas examples, convert the analysis to pyspark. This is useful if you discover your data grows too large for your tooling.\n",
        "\n",
        "The purpose of this notebook is to familiarise yourself you the pyspark API. You are welcome to use the R version of this if you wish. As long as you are able to obtain the correct results. We will be using python in this notebook as it is quite widely used through data science and the community is very large.\n",
        "\n"
      ]
    },
    {
      "cell_type": "markdown",
      "metadata": {
        "id": "TOihFApaXPRn"
      },
      "source": [
        "#### Firstly, let's get our spark session"
      ]
    },
    {
      "cell_type": "code",
      "execution_count": null,
      "metadata": {
        "id": "imiSU7-bXPRp",
        "outputId": "29b5731d-2517-4c78-848a-fde36a7655fe",
        "colab": {
          "base_uri": "https://localhost:8080/"
        }
      },
      "outputs": [
        {
          "output_type": "stream",
          "name": "stdout",
          "text": [
            "No LSB modules are available.\n",
            "Distributor ID:\tUbuntu\n",
            "Description:\tUbuntu 22.04.2 LTS\n",
            "Release:\t22.04\n",
            "Codename:\tjammy\n"
          ]
        }
      ],
      "source": [
        "!lsb_release -a"
      ]
    },
    {
      "cell_type": "code",
      "source": [
        "!apt-get update"
      ],
      "metadata": {
        "id": "HFcOLnho7YFo",
        "outputId": "9559a839-2195-4d6d-e283-2775d4099786",
        "colab": {
          "base_uri": "https://localhost:8080/"
        }
      },
      "execution_count": null,
      "outputs": [
        {
          "output_type": "stream",
          "name": "stdout",
          "text": [
            "\r0% [Working]\r            \rGet:1 http://security.ubuntu.com/ubuntu jammy-security InRelease [110 kB]\n",
            "\r0% [Connecting to archive.ubuntu.com (185.125.190.39)] [1 InRelease 14.2 kB/110\r                                                                               \rGet:2 https://cloud.r-project.org/bin/linux/ubuntu jammy-cran40/ InRelease [3,626 B]\n",
            "Get:3 https://developer.download.nvidia.com/compute/cuda/repos/ubuntu2204/x86_64  InRelease [1,581 B]\n",
            "Hit:4 http://archive.ubuntu.com/ubuntu jammy InRelease\n",
            "Get:5 http://archive.ubuntu.com/ubuntu jammy-updates InRelease [119 kB]\n",
            "Get:6 https://developer.download.nvidia.com/compute/cuda/repos/ubuntu2204/x86_64  Packages [498 kB]\n",
            "Hit:7 https://ppa.launchpadcontent.net/c2d4u.team/c2d4u4.0+/ubuntu jammy InRelease\n",
            "Get:8 http://security.ubuntu.com/ubuntu jammy-security/main amd64 Packages [1,014 kB]\n",
            "Get:9 http://archive.ubuntu.com/ubuntu jammy-backports InRelease [109 kB]\n",
            "Get:10 http://security.ubuntu.com/ubuntu jammy-security/universe amd64 Packages [998 kB]\n",
            "Hit:11 https://ppa.launchpadcontent.net/deadsnakes/ppa/ubuntu jammy InRelease\n",
            "Get:12 http://archive.ubuntu.com/ubuntu jammy-updates/universe amd64 Packages [1,260 kB]\n",
            "Hit:13 https://ppa.launchpadcontent.net/graphics-drivers/ppa/ubuntu jammy InRelease\n",
            "Get:14 http://archive.ubuntu.com/ubuntu jammy-updates/main amd64 Packages [1,283 kB]\n",
            "Hit:15 https://ppa.launchpadcontent.net/ubuntugis/ppa/ubuntu jammy InRelease\n",
            "Fetched 5,396 kB in 2s (3,155 kB/s)\n",
            "Reading package lists... Done\n"
          ]
        }
      ]
    },
    {
      "cell_type": "code",
      "source": [
        "# Install java\n",
        "!apt-get install openjdk-8-jdk-headless -qq > /dev/null"
      ],
      "metadata": {
        "id": "sw5L1WpS7aPN"
      },
      "execution_count": null,
      "outputs": []
    },
    {
      "cell_type": "code",
      "source": [
        "# get spark\n",
        "VERSION='3.5.0'\n",
        "!wget https://dlcdn.apache.org/spark/spark-$VERSION/spark-$VERSION-bin-hadoop3.tgz"
      ],
      "metadata": {
        "id": "NfOSg-xD7dAk",
        "outputId": "a130bbea-e063-4cd3-cb73-008e55685056",
        "colab": {
          "base_uri": "https://localhost:8080/"
        }
      },
      "execution_count": null,
      "outputs": [
        {
          "output_type": "stream",
          "name": "stdout",
          "text": [
            "--2023-09-21 18:14:01--  https://dlcdn.apache.org/spark/spark-3.5.0/spark-3.5.0-bin-hadoop3.tgz\n",
            "Resolving dlcdn.apache.org (dlcdn.apache.org)... 151.101.2.132, 2a04:4e42::644\n",
            "Connecting to dlcdn.apache.org (dlcdn.apache.org)|151.101.2.132|:443... connected.\n",
            "HTTP request sent, awaiting response... 200 OK\n",
            "Length: 400395283 (382M) [application/x-gzip]\n",
            "Saving to: ‘spark-3.5.0-bin-hadoop3.tgz’\n",
            "\n",
            "spark-3.5.0-bin-had 100%[===================>] 381.85M  46.3MB/s    in 5.6s    \n",
            "\n",
            "2023-09-21 18:14:07 (68.0 MB/s) - ‘spark-3.5.0-bin-hadoop3.tgz’ saved [400395283/400395283]\n",
            "\n"
          ]
        }
      ]
    },
    {
      "cell_type": "code",
      "source": [
        "# decompress spark\n",
        "!tar xf spark-$VERSION-bin-hadoop3.tgz\n",
        "\n",
        "# install python package to help with system paths\n",
        "!pip install -q findspark"
      ],
      "metadata": {
        "id": "emDGvNp87gDX"
      },
      "execution_count": null,
      "outputs": []
    },
    {
      "cell_type": "code",
      "source": [
        "# Let Colab know where the java and spark folders are\n",
        "\n",
        "import os\n",
        "os.environ[\"JAVA_HOME\"] = \"/usr/lib/jvm/java-8-openjdk-amd64\"\n",
        "os.environ[\"SPARK_HOME\"] = f\"/content/spark-{VERSION}-bin-hadoop3\""
      ],
      "metadata": {
        "id": "ZyUuPFOW7i0L"
      },
      "execution_count": null,
      "outputs": []
    },
    {
      "cell_type": "code",
      "source": [
        "import findspark\n",
        "findspark.init()\n",
        "\n",
        "from pyspark.sql import SparkSession\n",
        "import pandas as pd\n",
        "spark = SparkSession.builder.appName(\"local[*]\").getOrCreate()"
      ],
      "metadata": {
        "id": "AyxL2hvQ7TJA"
      },
      "execution_count": null,
      "outputs": []
    },
    {
      "cell_type": "markdown",
      "metadata": {
        "id": "Fb2AqiRtXPR-"
      },
      "source": [
        "# Questions\n",
        "\n",
        "Answer the following questions by porting the pandas code to the Spark API\n"
      ]
    },
    {
      "cell_type": "markdown",
      "metadata": {
        "id": "lasJs_j9XPR_"
      },
      "source": [
        "\n",
        "# Question 1\n",
        "\n",
        "\n",
        "> On what day do most crashes occcur?"
      ]
    },
    {
      "cell_type": "code",
      "execution_count": null,
      "metadata": {
        "id": "PvUHxwKyXPR_"
      },
      "outputs": [],
      "source": [
        "# Pandas\n",
        "nyc_small.groupby('CRASH DATE')['CRASH DATE'].count().sort_values(ascending=False).head(5)"
      ]
    },
    {
      "cell_type": "code",
      "execution_count": null,
      "metadata": {
        "id": "Eio1I_VrXPSA",
        "outputId": "6a7472ac-decd-40a8-dd7b-c5fc899d9b5b",
        "colab": {
          "base_uri": "https://localhost:8080/"
        }
      },
      "outputs": [
        {
          "output_type": "stream",
          "name": "stdout",
          "text": [
            "+----------+-----------------+\n",
            "|CRASH DATE|count(CRASH DATE)|\n",
            "+----------+-----------------+\n",
            "|11/15/2018|              228|\n",
            "|01/21/2014|              219|\n",
            "|05/19/2017|              205|\n",
            "|06/21/2018|              196|\n",
            "|12/15/2017|              194|\n",
            "+----------+-----------------+\n",
            "\n"
          ]
        }
      ],
      "source": [
        "### Spark?\n",
        "\n",
        "from pyspark.sql.functions import col\n",
        "\n",
        "# Group by 'CRASH DATE', count, and order by count in descending order\n",
        "result = sdf_small.groupBy(['CRASH DATE']).agg({'CRASH DATE': 'count'})\\\n",
        "                  .orderBy(col('count(CRASH DATE)').desc()) \\\n",
        "                  .limit(5)\n",
        "\n",
        "# Show the result\n",
        "result.show()\n"
      ]
    },
    {
      "cell_type": "markdown",
      "metadata": {
        "id": "rtcFGV-yXPSB"
      },
      "source": [
        "# Question 2\n",
        "\n",
        "> _Where do most crashes occur?_"
      ]
    },
    {
      "cell_type": "code",
      "execution_count": null,
      "metadata": {
        "id": "3p-cPu4jXPSC"
      },
      "outputs": [],
      "source": [
        "nyc_small.groupby('BOROUGH')['BOROUGH'].count().sort_values(ascending=False).head(5)"
      ]
    },
    {
      "cell_type": "code",
      "execution_count": null,
      "metadata": {
        "id": "8Ncy9bcvXPSD",
        "outputId": "b7f1d9cc-d8c3-4d61-9df5-8447e9a9b1c4",
        "colab": {
          "base_uri": "https://localhost:8080/"
        }
      },
      "outputs": [
        {
          "output_type": "stream",
          "name": "stdout",
          "text": [
            "+---------+--------------+\n",
            "|  BOROUGH|count(BOROUGH)|\n",
            "+---------+--------------+\n",
            "|         |        126088|\n",
            "| BROOKLYN|         88569|\n",
            "|   QUEENS|         74822|\n",
            "|MANHATTAN|         62911|\n",
            "|    BRONX|         41229|\n",
            "+---------+--------------+\n",
            "\n"
          ]
        }
      ],
      "source": [
        "## Spark?\n",
        "\n",
        "from pyspark.sql.functions import col\n",
        "\n",
        "result = sdf_small.groupBy('BOROUGH').agg({'BOROUGH': 'count'}) \\\n",
        "                  .orderBy(col('count(BOROUGH)').desc()) \\\n",
        "                  .limit(5)\n",
        "\n",
        "result.show()\n"
      ]
    },
    {
      "cell_type": "markdown",
      "metadata": {
        "id": "tWjn6DeaXPSE"
      },
      "source": [
        " # Question 3\n",
        "\n",
        " > What is the most common cause of accident in 'QUEENS'"
      ]
    },
    {
      "cell_type": "code",
      "execution_count": null,
      "metadata": {
        "id": "bkvcFNKiXPSK"
      },
      "outputs": [],
      "source": [
        "nyc_small[(nyc_small.BOROUGH == 'QUEENS')]['CONTRIBUTING FACTOR VEHICLE 1'].value_counts()\n",
        "\n",
        "# you can also use a group by (to avoid the pandas value_counts function)\n",
        "\n",
        "nyc_small[(nyc_small.BOROUGH == 'QUEENS')].groupby(\n",
        "    'CONTRIBUTING FACTOR VEHICLE 1'\n",
        ")['CONTRIBUTING FACTOR VEHICLE 1'].count().sort_values(ascending=False).head(5)"
      ]
    },
    {
      "cell_type": "code",
      "execution_count": null,
      "metadata": {
        "id": "w3piHywcXPSM",
        "outputId": "0641f9ea-3f11-4a9a-b8df-f415e5b349ae",
        "colab": {
          "base_uri": "https://localhost:8080/"
        }
      },
      "outputs": [
        {
          "output_type": "stream",
          "name": "stdout",
          "text": [
            "+-----------------------------+-----+\n",
            "|CONTRIBUTING FACTOR VEHICLE 1|count|\n",
            "+-----------------------------+-----+\n",
            "|                  Unspecified|26554|\n",
            "|         Driver Inattentio...|15937|\n",
            "|         Failure to Yield ...| 6322|\n",
            "|             Backing Unsafely| 3673|\n",
            "|         Following Too Clo...| 2708|\n",
            "|         Passing or Lane U...| 1954|\n",
            "|          Passing Too Closely| 1758|\n",
            "|         Traffic Control D...| 1590|\n",
            "|           Turning Improperly| 1544|\n",
            "|              Fatigued/Drowsy| 1275|\n",
            "|              Other Vehicular| 1199|\n",
            "|          Driver Inexperience| 1068|\n",
            "|          Alcohol Involvement|  975|\n",
            "|                 Unsafe Speed|  954|\n",
            "|         Unsafe Lane Changing|  678|\n",
            "|            Pavement Slippery|  668|\n",
            "|         Prescription Medi...|  582|\n",
            "|           Lost Consciousness|  577|\n",
            "|         View Obstructed/L...|  569|\n",
            "|          Physical Disability|  551|\n",
            "+-----------------------------+-----+\n",
            "only showing top 20 rows\n",
            "\n"
          ]
        }
      ],
      "source": [
        "## Spark?\n",
        "\n",
        "from pyspark.sql.functions import col, count\n",
        "\n",
        "result = sdf_small.filter(col('BOROUGH') == 'QUEENS') \\\n",
        "                  .groupBy('CONTRIBUTING FACTOR VEHICLE 1') \\\n",
        "                  .agg(count('*').alias('count')) \\\n",
        "                  .orderBy(col('count').desc())\n",
        "\n",
        "result.show()\n",
        "\n"
      ]
    },
    {
      "cell_type": "markdown",
      "metadata": {
        "id": "7zykJIVXXPSO"
      },
      "source": [
        "# Question 4"
      ]
    },
    {
      "cell_type": "markdown",
      "metadata": {
        "id": "Z8XENdS2XPSP"
      },
      "source": [
        "> _What is the average number or injuries for specific cars driving in specific suburbs_\n"
      ]
    },
    {
      "cell_type": "code",
      "execution_count": null,
      "metadata": {
        "id": "8XcQBW4-XPSQ"
      },
      "outputs": [],
      "source": [
        "nyc_small.groupby(['VEHICLE TYPE CODE 1', 'BOROUGH'])['NUMBER OF PERSONS INJURED'].mean().sort_values(ascending=False).head(3)"
      ]
    },
    {
      "cell_type": "code",
      "execution_count": null,
      "metadata": {
        "id": "FCkWKOPNXPSQ",
        "outputId": "b101fccc-659f-4414-aa9d-b60a63d41ce8",
        "colab": {
          "base_uri": "https://localhost:8080/"
        }
      },
      "outputs": [
        {
          "output_type": "stream",
          "name": "stdout",
          "text": [
            "+-------------------+--------+------------+\n",
            "|VEHICLE TYPE CODE 1| BOROUGH|avg_injuries|\n",
            "+-------------------+--------+------------+\n",
            "|                rmb|  QUEENS|        11.0|\n",
            "|                 PC|BROOKLYN|         5.0|\n",
            "|          AMBULANVE|   BRONX|         4.0|\n",
            "+-------------------+--------+------------+\n",
            "\n"
          ]
        }
      ],
      "source": [
        "## Spark?\n",
        "\n",
        "from pyspark.sql.functions import col, mean\n",
        "\n",
        "result = sdf_small.groupBy('VEHICLE TYPE CODE 1', 'BOROUGH') \\\n",
        "                  .agg(mean('NUMBER OF PERSONS INJURED').alias('avg_injuries')) \\\n",
        "                  .orderBy(col('avg_injuries').desc()) \\\n",
        "                  .limit(3)\n",
        "\n",
        "result.show()"
      ]
    }
  ],
  "metadata": {
    "kernelspec": {
      "display_name": "Python 3",
      "language": "python",
      "name": "python3"
    },
    "language_info": {
      "codemirror_mode": {
        "name": "ipython",
        "version": 3
      },
      "file_extension": ".py",
      "mimetype": "text/x-python",
      "name": "python",
      "nbconvert_exporter": "python",
      "pygments_lexer": "ipython3",
      "version": "3.6.9"
    },
    "colab": {
      "provenance": []
    }
  },
  "nbformat": 4,
  "nbformat_minor": 0
}