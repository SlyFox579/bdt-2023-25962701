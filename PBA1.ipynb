{
  "nbformat": 4,
  "nbformat_minor": 0,
  "metadata": {
    "colab": {
      "provenance": [],
      "authorship_tag": "ABX9TyMEI9wAcskl1LaPirmw9lXS",
      "include_colab_link": true
    },
    "kernelspec": {
      "name": "python3",
      "display_name": "Python 3"
    },
    "language_info": {
      "name": "python"
    }
  },
  "cells": [
    {
      "cell_type": "markdown",
      "metadata": {
        "id": "view-in-github",
        "colab_type": "text"
      },
      "source": [
        "<a href=\"https://colab.research.google.com/github/SlyFox579/bdt-2023-25962701/blob/main/PBA1.ipynb\" target=\"_parent\"><img src=\"https://colab.research.google.com/assets/colab-badge.svg\" alt=\"Open In Colab\"/></a>"
      ]
    },
    {
      "cell_type": "code",
      "execution_count": null,
      "metadata": {
        "colab": {
          "base_uri": "https://localhost:8080/"
        },
        "id": "u4KnaRVB0MmM",
        "outputId": "1d467771-d62f-4920-a283-2e84010fcecf"
      },
      "outputs": [
        {
          "output_type": "stream",
          "name": "stdout",
          "text": [
            ">> pip install --upgrade pip\n",
            "Requirement already satisfied: pip in /usr/local/lib/python3.10/dist-packages (23.1.2)\n",
            "Collecting pip\n",
            "  Downloading pip-23.2.1-py3-none-any.whl (2.1 MB)\n",
            "\u001b[2K     \u001b[90m━━━━━━━━━━━━━━━━━━━━━━━━━━━━━━━━━━━━━━━━\u001b[0m \u001b[32m2.1/2.1 MB\u001b[0m \u001b[31m11.3 MB/s\u001b[0m eta \u001b[36m0:00:00\u001b[0m\n",
            "\u001b[?25hInstalling collected packages: pip\n",
            "  Attempting uninstall: pip\n",
            "    Found existing installation: pip 23.1.2\n",
            "    Uninstalling pip-23.1.2:\n",
            "      Successfully uninstalled pip-23.1.2\n",
            "Successfully installed pip-23.2.1\n",
            "\n",
            ">> pip install --quiet apache-beam\n",
            "\u001b[2K     \u001b[90m━━━━━━━━━━━━━━━━━━━━━━━━━━━━━━━━━━━━━━━━\u001b[0m \u001b[32m89.7/89.7 kB\u001b[0m \u001b[31m2.3 MB/s\u001b[0m eta \u001b[36m0:00:00\u001b[0m\n",
            "\u001b[?25h  Preparing metadata (setup.py) ... \u001b[?25l\u001b[?25hdone\n",
            "\u001b[2K     \u001b[90m━━━━━━━━━━━━━━━━━━━━━━━━━━━━━━━━━━━━━━━━\u001b[0m \u001b[32m49.2/49.2 kB\u001b[0m \u001b[31m4.5 MB/s\u001b[0m eta \u001b[36m0:00:00\u001b[0m\n",
            "\u001b[2K     \u001b[90m━━━━━━━━━━━━━━━━━━━━━━━━━━━━━━━━━━━━━━━\u001b[0m \u001b[32m152.0/152.0 kB\u001b[0m \u001b[31m6.1 MB/s\u001b[0m eta \u001b[36m0:00:00\u001b[0m\n",
            "\u001b[?25h  Preparing metadata (setup.py) ... \u001b[?25l\u001b[?25hdone\n",
            "\u001b[2K     \u001b[90m━━━━━━━━━━━━━━━━━━━━━━━━━━━━━━━━━━━━━━━━\u001b[0m \u001b[32m43.4/43.4 kB\u001b[0m \u001b[31m4.6 MB/s\u001b[0m eta \u001b[36m0:00:00\u001b[0m\n",
            "\u001b[?25h  Preparing metadata (setup.py) ... \u001b[?25l\u001b[?25hdone\n",
            "\u001b[2K     \u001b[90m━━━━━━━━━━━━━━━━━━━━━━━━━━━━━━━━━━━━━━━━\u001b[0m \u001b[32m2.7/2.7 MB\u001b[0m \u001b[31m13.0 MB/s\u001b[0m eta \u001b[36m0:00:00\u001b[0m\n",
            "\u001b[?25h  Preparing metadata (setup.py) ... \u001b[?25l\u001b[?25hdone\n",
            "\u001b[2K   \u001b[90m━━━━━━━━━━━━━━━━━━━━━━━━━━━━━━━━━━━━━━━━\u001b[0m \u001b[32m14.7/14.7 MB\u001b[0m \u001b[31m47.1 MB/s\u001b[0m eta \u001b[36m0:00:00\u001b[0m\n",
            "\u001b[2K   \u001b[90m━━━━━━━━━━━━━━━━━━━━━━━━━━━━━━━━━━━━━━━━\u001b[0m \u001b[32m3.0/3.0 MB\u001b[0m \u001b[31m53.5 MB/s\u001b[0m eta \u001b[36m0:00:00\u001b[0m\n",
            "\u001b[2K   \u001b[90m━━━━━━━━━━━━━━━━━━━━━━━━━━━━━━━━━━━━━━━━\u001b[0m \u001b[32m138.7/138.7 kB\u001b[0m \u001b[31m11.6 MB/s\u001b[0m eta \u001b[36m0:00:00\u001b[0m\n",
            "\u001b[2K   \u001b[90m━━━━━━━━━━━━━━━━━━━━━━━━━━━━━━━━━━━━━━━━\u001b[0m \u001b[32m671.3/671.3 kB\u001b[0m \u001b[31m32.0 MB/s\u001b[0m eta \u001b[36m0:00:00\u001b[0m\n",
            "\u001b[2K   \u001b[90m━━━━━━━━━━━━━━━━━━━━━━━━━━━━━━━━━━━━━━━━\u001b[0m \u001b[32m300.4/300.4 kB\u001b[0m \u001b[31m23.8 MB/s\u001b[0m eta \u001b[36m0:00:00\u001b[0m\n",
            "\u001b[?25h  Building wheel for crcmod (setup.py) ... \u001b[?25l\u001b[?25hdone\n",
            "  Building wheel for dill (setup.py) ... \u001b[?25l\u001b[?25hdone\n",
            "  Building wheel for hdfs (setup.py) ... \u001b[?25l\u001b[?25hdone\n",
            "  Building wheel for docopt (setup.py) ... \u001b[?25l\u001b[?25hdone\n",
            "\u001b[33mWARNING: Running pip as the 'root' user can result in broken permissions and conflicting behaviour with the system package manager. It is recommended to use a virtual environment instead: https://pip.pypa.io/warnings/venv\u001b[0m\u001b[33m\n",
            "\u001b[0m\n",
            ">> mkdir -p data\n",
            "\n",
            ">> gsutil cp gs://bdt-beam/users_v.csv data/\n",
            "Copying gs://bdt-beam/users_v.csv...\n",
            "- [1 files][140.3 KiB/140.3 KiB]                                                \n",
            "Operation completed over 1 objects/140.3 KiB.                                    \n",
            "\n",
            ">> gsutil cp gs://bdt-beam/orders_v_2022.csv data/\n",
            "Copying gs://bdt-beam/orders_v_2022.csv...\n",
            "- [1 files][ 69.9 MiB/ 69.9 MiB]                                                \n",
            "Operation completed over 1 objects/69.9 MiB.                                     \n",
            "\n"
          ]
        }
      ],
      "source": [
        "# Run and print a shell command.\n",
        "def run(cmd):\n",
        "  print('>> {}'.format(cmd))\n",
        "  !{cmd}\n",
        "  print('')\n",
        "\n",
        "run('pip install --upgrade pip')\n",
        "\n",
        "# Install apache-beam.\n",
        "run('pip install --quiet apache-beam')\n",
        "\n",
        "# Copy the input file into the local file system.\n",
        "run('mkdir -p data')\n",
        "run('gsutil cp gs://bdt-beam/users_v.csv data/')\n",
        "run('gsutil cp gs://bdt-beam/orders_v_2022.csv data/')"
      ]
    },
    {
      "cell_type": "code",
      "source": [
        "import apache_beam as beam\n",
        "\n",
        "with beam.Pipeline() as pipe:\n",
        "  p = (pipe\n",
        "     |beam.io.ReadFromText('data/users_v.csv', skip_header_lines=True)\n",
        "     |beam.Map(lambda x: x.split(','))\n",
        "     #|beam.Map(lambda x: x[5])\n",
        "     |beam.Map(lambda x: x[0] + ';' + x[1] + ';' + x[2] + ';' + x[3]\n",
        "               + ';' + x[4] + ';' + x[5])\n",
        "     |beam.Map(lambda x: x.split('-'))\n",
        "     |beam.Map(lambda x: x[0] + ' , ' + x[1] + ' , ' + x[2])\n",
        "     |beam.Map(lambda x: x.split('/'))\n",
        "     |beam.Map(lambda x: x[0] + '-' + x[1] + '-' + x[2])\n",
        "     #|beam.Map(print)\n",
        "     |beam.io.WriteToText('data/users_vv2.csv')\n",
        "  )"
      ],
      "metadata": {
        "colab": {
          "base_uri": "https://localhost:8080/",
          "height": 54
        },
        "id": "dWf7KZ3Y1Edf",
        "outputId": "e955e9af-e616-4c40-85ec-b4592dd3f11c"
      },
      "execution_count": null,
      "outputs": [
        {
          "output_type": "stream",
          "name": "stderr",
          "text": [
            "WARNING:apache_beam.runners.interactive.interactive_environment:Dependencies required for Interactive Beam PCollection visualization are not available, please use: `pip install apache-beam[interactive]` to install necessary dependencies to enable all data visualization features.\n"
          ]
        },
        {
          "output_type": "display_data",
          "data": {
            "application/javascript": [
              "\n",
              "        if (typeof window.interactive_beam_jquery == 'undefined') {\n",
              "          var jqueryScript = document.createElement('script');\n",
              "          jqueryScript.src = 'https://code.jquery.com/jquery-3.4.1.slim.min.js';\n",
              "          jqueryScript.type = 'text/javascript';\n",
              "          jqueryScript.onload = function() {\n",
              "            var datatableScript = document.createElement('script');\n",
              "            datatableScript.src = 'https://cdn.datatables.net/1.10.20/js/jquery.dataTables.min.js';\n",
              "            datatableScript.type = 'text/javascript';\n",
              "            datatableScript.onload = function() {\n",
              "              window.interactive_beam_jquery = jQuery.noConflict(true);\n",
              "              window.interactive_beam_jquery(document).ready(function($){\n",
              "                \n",
              "              });\n",
              "            }\n",
              "            document.head.appendChild(datatableScript);\n",
              "          };\n",
              "          document.head.appendChild(jqueryScript);\n",
              "        } else {\n",
              "          window.interactive_beam_jquery(document).ready(function($){\n",
              "            \n",
              "          });\n",
              "        }"
            ]
          },
          "metadata": {}
        }
      ]
    },
    {
      "cell_type": "code",
      "source": [
        "with beam.Pipeline() as pipe:\n",
        "  p = (pipe\n",
        "     |beam.io.ReadFromText('data/orders_v_2022.csv', skip_header_lines=True)\n",
        "     |beam.Map(lambda x: x.split(';'))\n",
        "     |beam.Map(lambda x: (x[1],x))\n",
        "     |beam.combiners.Count.PerKey()\n",
        "     #|beam.Map(print)\n",
        "     |beam.io.WriteToText('data/orders_vvv2.csv')\n",
        "     #|beam.Map(print)\n",
        "  )"
      ],
      "metadata": {
        "id": "TNbyrrs2ATv9"
      },
      "execution_count": null,
      "outputs": []
    },
    {
      "cell_type": "code",
      "source": [
        "with beam.Pipeline() as pipe:\n",
        "  p = (pipe\n",
        "     |beam.io.ReadFromText('data/orders_vvv2.csv-00000-of-00001')\n",
        "     |beam.Map(lambda x: x.split(')'))\n",
        "     |beam.Map(lambda x: x[0])\n",
        "     |beam.Map(lambda x: x.split(\"'\"))\n",
        "     |beam.Map(lambda x: x[1] + x[2])\n",
        "     |beam.Map(lambda x: x.split(\", \"))\n",
        "     |beam.Map(lambda x: x[0] + ',' + x[1])\n",
        "     #|beam.Map(print)\n",
        "     |beam.io.WriteToText('data/orders_vv3.csv')\n",
        "  )"
      ],
      "metadata": {
        "id": "-GW0-8szCE4-"
      },
      "execution_count": null,
      "outputs": []
    },
    {
      "cell_type": "code",
      "source": [
        "from apache_beam import CoGroupByKey, Map\n",
        "with beam.Pipeline() as p:\n",
        "    users = (p | \"Read orders\" >> beam.io.ReadFromText(\"data/users_vv2.csv-00000-of-00001\")\n",
        "                | beam.Map(lambda x: x.split(';'))\n",
        "                |beam.Map(lambda x: x[0] + ',' + x[2])\n",
        "                | beam.Map(lambda x: x.split(','))\n",
        "             )\n",
        "\n",
        "    orders = (p |beam.io.ReadFromText(\"data/orders_vv3.csv-00000-of-00001\")\n",
        "               | beam.Map(lambda x: x.split(','))\n",
        "            )\n",
        "\n",
        "    x = ({\"users\": users, \"orders\": orders} | CoGroupByKey()\n",
        "                                            #|beam.Map(print)\n",
        "                                            |beam.io.WriteToText('data/combined2.csv')\n",
        "    )\n",
        "\n",
        "\n"
      ],
      "metadata": {
        "id": "IUfZ83-sDwhw"
      },
      "execution_count": null,
      "outputs": []
    },
    {
      "cell_type": "code",
      "source": [
        "#average number of orders\n",
        "with beam.Pipeline() as pipe:\n",
        "  p = (pipe\n",
        "     |beam.io.ReadFromText('data/combined2.csv-00000-of-00001')\n",
        "     |beam.Map(lambda x: x.split(\"'\"))\n",
        "     |beam.Map(lambda x: x[1] + ',' + x[5] + ',' + x[9])\n",
        "     |beam.Map(lambda x: x.split(\",\"))\n",
        "     |beam.Map(lambda x: x[1] + ',' + x[2])\n",
        "     |beam.Map(lambda x: x.split(\",\"))\n",
        "     |beam.Map(lambda x: (x[0],int(x[1])))\n",
        "     |beam.combiners.Mean.PerKey()\n",
        "     |beam.Map(print)\n",
        "  )"
      ],
      "metadata": {
        "colab": {
          "base_uri": "https://localhost:8080/"
        },
        "id": "2FF8eWDzEyV5",
        "outputId": "43d0d3c8-caf9-49ec-f9b2-0e5ba51d3fae"
      },
      "execution_count": null,
      "outputs": [
        {
          "output_type": "stream",
          "name": "stdout",
          "text": [
            "('female', 678.5173913043478)\n",
            "('male', 678.2220381110191)\n"
          ]
        }
      ]
    },
    {
      "cell_type": "code",
      "source": [
        "#total number of orders\n",
        "\n",
        "with beam.Pipeline() as pipe:\n",
        "  p = (pipe\n",
        "     |beam.io.ReadFromText('data/combined2.csv-00000-of-00001')\n",
        "     |beam.io.WriteToText('data/total.csv')\n",
        "  )\n",
        "\n",
        "with beam.Pipeline() as pipe:\n",
        "  q = (pipe\n",
        "     |beam.io.ReadFromText('data/total.csv-00000-of-00001')\n",
        "     |beam.Map(lambda x: x.split(\"'\"))\n",
        "     |beam.Map(lambda x: x[1] + ',' + x[5] + ',' + x[9])\n",
        "     |beam.Map(lambda x: x.split(\",\"))\n",
        "     |beam.Map(lambda x: x[1] + ',' + x[2])\n",
        "     |beam.Map(lambda x: x.split(\",\"))\n",
        "     |beam.Map(lambda x: (x[0],int(x[1])))\n",
        "     |beam.CombinePerKey(sum)\n",
        "     |beam.Map(print)\n",
        "  )\n",
        "\n",
        "  r = (pipe\n",
        "     |\"Read total\" >> beam.io.ReadFromText('data/combined2.csv-00000-of-00001')\n",
        "     |beam.Map(lambda x: x.split(\"'\"))\n",
        "     |beam.Map(lambda x: x[1] + ',' + x[5] + ',' + x[9])\n",
        "     |beam.Map(lambda x: x.split(\",\"))\n",
        "     |beam.Map(lambda x: x[1] + ',' + x[2])\n",
        "     |beam.Map(lambda x: x.split(\",\"))\n",
        "     |beam.Map(lambda x: (x[0],int(x[1])))\n",
        "     |beam.combiners.Mean.PerKey()\n",
        "     |\"print\" >> beam.Map(print)\n",
        "  )\n",
        "\n",
        "\n"
      ],
      "metadata": {
        "colab": {
          "base_uri": "https://localhost:8080/"
        },
        "id": "I9ZMEPe4ESEE",
        "outputId": "aeaa7c24-6cfe-4a32-d35d-614891aaffb2"
      },
      "execution_count": null,
      "outputs": [
        {
          "output_type": "stream",
          "name": "stdout",
          "text": [
            "('female', 678.5173913043478)\n",
            "('male', 678.2220381110191)\n",
            "('female', 780295)\n",
            "('male', 818614)\n"
          ]
        }
      ]
    }
  ]
}