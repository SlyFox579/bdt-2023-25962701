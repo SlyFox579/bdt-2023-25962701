{
  "nbformat": 4,
  "nbformat_minor": 0,
  "metadata": {
    "colab": {
      "provenance": []
    },
    "kernelspec": {
      "name": "python3",
      "display_name": "Python 3"
    },
    "language_info": {
      "name": "python"
    }
  },
  "cells": [
    {
      "cell_type": "code",
      "execution_count": 1,
      "metadata": {
        "id": "M5WJ9ln7ETeP"
      },
      "outputs": [],
      "source": [
        "import pandas as pd"
      ]
    },
    {
      "cell_type": "code",
      "source": [
        "!wget https://storage.googleapis.com/bdt-beam/users_v.csv\n"
      ],
      "metadata": {
        "colab": {
          "base_uri": "https://localhost:8080/"
        },
        "id": "kMBoP91xE4sx",
        "outputId": "10bb56bc-bf44-4878-dfde-0220ea858dbc"
      },
      "execution_count": 3,
      "outputs": [
        {
          "output_type": "stream",
          "name": "stdout",
          "text": [
            "--2023-09-19 20:27:11--  https://storage.googleapis.com/bdt-beam/users_v.csv\n",
            "Resolving storage.googleapis.com (storage.googleapis.com)... 173.194.215.207, 173.194.216.207, 173.194.217.207, ...\n",
            "Connecting to storage.googleapis.com (storage.googleapis.com)|173.194.215.207|:443... connected.\n",
            "HTTP request sent, awaiting response... 200 OK\n",
            "Length: 143675 (140K) [text/csv]\n",
            "Saving to: ‘users_v.csv’\n",
            "\n",
            "users_v.csv         100%[===================>] 140.31K   708KB/s    in 0.2s    \n",
            "\n",
            "2023-09-19 20:27:11 (708 KB/s) - ‘users_v.csv’ saved [143675/143675]\n",
            "\n"
          ]
        }
      ]
    },
    {
      "cell_type": "code",
      "source": [
        "!head -n 10 users_v.csv\n"
      ],
      "metadata": {
        "colab": {
          "base_uri": "https://localhost:8080/"
        },
        "id": "oTPgwjNxJm1x",
        "outputId": "7f4fa886-c387-4573-90bd-fa33bd7ae054"
      },
      "execution_count": 8,
      "outputs": [
        {
          "output_type": "stream",
          "name": "stdout",
          "text": [
            "user_id,name,gender,age,address,date_joined\n",
            "1,Anthony Wolf,male,73,New Rachelburgh-VA-49583,2019/03/13\n",
            "2,James Armstrong,male,56,North Jillianfort-UT-86454,2020/11/06\n",
            "3,Cody Shaw,male,75,North Anne-SC-53799,2004/05/29\n",
            "4,Sierra Hamilton,female,76,New Angelafurt-ME-46190,2005/08/26\n",
            "5,Chase Davis,male,31,South Bethmouth-WI-18562,2018/04/30\n",
            "6,Sierra Andrews,female,21,Ryanville-MI-69690,2007/05/25\n",
            "7,Ann Stone,female,41,Smithmouth-SD-17340,2005/01/05\n",
            "8,Karen Santos,female,34,Mariaville-AK-29888,2003/12/12\n",
            "9,Ronald Meyer,male,41,North Cherylhaven-NJ-04197,2015/11/14\n"
          ]
        }
      ]
    },
    {
      "cell_type": "code",
      "source": [
        "!wc -l users_v.csv"
      ],
      "metadata": {
        "colab": {
          "base_uri": "https://localhost:8080/"
        },
        "id": "uCXWyaKmLmg5",
        "outputId": "24b386b3-8fe9-467e-9ac8-60303c6cdc35"
      },
      "execution_count": 9,
      "outputs": [
        {
          "output_type": "stream",
          "name": "stdout",
          "text": [
            "2358 users_v.csv\n"
          ]
        }
      ]
    },
    {
      "cell_type": "code",
      "source": [
        "!head -n 1000 users_v.csv | shuf -n 1000 > users_sample.csv"
      ],
      "metadata": {
        "id": "YYwHOOmNN3az"
      },
      "execution_count": 10,
      "outputs": []
    },
    {
      "cell_type": "code",
      "source": [
        "!sort -t, -k2n users_sample.csv -o sorted_users.csv"
      ],
      "metadata": {
        "id": "7cwhL3l_OH_h"
      },
      "execution_count": 11,
      "outputs": []
    },
    {
      "cell_type": "code",
      "source": [
        "!sort -t, -k2n users_sample.csv -o users_sample.csv"
      ],
      "metadata": {
        "id": "1-byh5nQOeJX"
      },
      "execution_count": 13,
      "outputs": []
    },
    {
      "cell_type": "code",
      "source": [
        "!tail -n 10 users_sample.csv"
      ],
      "metadata": {
        "colab": {
          "base_uri": "https://localhost:8080/"
        },
        "id": "qh35UsT5PZSb",
        "outputId": "a2013aeb-2c7e-4420-d636-0ccd8a2847fa"
      },
      "execution_count": 14,
      "outputs": [
        {
          "output_type": "stream",
          "name": "stdout",
          "text": [
            "993,Elizabeth Perez,female,50,North Rebecca-MD-97897,2007/10/18\n",
            "994,Kristi Perry,female,64,Elizabethmouth-NV-66181,2021/03/18\n",
            "995,Lisa Jacobs,female,31,Port Charles-OK-64370,2011/10/25\n",
            "996,Benjamin Adams,male,44,Port Hannahfort-WV-35030,2020/07/09\n",
            "997,Matthew Cooke,male,31,New Aaronshire-FL-31342,2015/01/02\n",
            "998,Ms. Candice Sims DVM,female,24,Marychester-CT-22544,2005/02/18\n",
            "999,Kenneth Bryant,male,27,South Meganmouth-IL-80593,2000/04/10\n",
            "99,Jessica Smith,female,80,South Jessicafort-WV-07577,2013/11/14\n",
            "9,Ronald Meyer,male,41,North Cherylhaven-NJ-04197,2015/11/14\n",
            "user_id,name,gender,age,address,date_joined\n"
          ]
        }
      ]
    },
    {
      "cell_type": "code",
      "source": [
        "import pandas as pd\n",
        "\n",
        "file_path = 'users_v.csv'\n",
        "\n",
        "df = pd.read_csv(file_path)"
      ],
      "metadata": {
        "id": "SFN6xebKPrVK"
      },
      "execution_count": 15,
      "outputs": []
    },
    {
      "cell_type": "code",
      "source": [
        "print(df.head(10))"
      ],
      "metadata": {
        "colab": {
          "base_uri": "https://localhost:8080/"
        },
        "id": "3V84MUJpP6Sj",
        "outputId": "aba0bb42-df96-435b-c8dd-5566b275da90"
      },
      "execution_count": 16,
      "outputs": [
        {
          "output_type": "stream",
          "name": "stdout",
          "text": [
            "   user_id             name  gender  age                     address  \\\n",
            "0        1     Anthony Wolf    male   73    New Rachelburgh-VA-49583   \n",
            "1        2  James Armstrong    male   56  North Jillianfort-UT-86454   \n",
            "2        3        Cody Shaw    male   75         North Anne-SC-53799   \n",
            "3        4  Sierra Hamilton  female   76     New Angelafurt-ME-46190   \n",
            "4        5      Chase Davis    male   31    South Bethmouth-WI-18562   \n",
            "5        6   Sierra Andrews  female   21          Ryanville-MI-69690   \n",
            "6        7        Ann Stone  female   41         Smithmouth-SD-17340   \n",
            "7        8     Karen Santos  female   34         Mariaville-AK-29888   \n",
            "8        9     Ronald Meyer    male   41  North Cherylhaven-NJ-04197   \n",
            "9       10    Steven Rivera    male   43          Wayneside-VT-29040   \n",
            "\n",
            "  date_joined  \n",
            "0  2019/03/13  \n",
            "1  2020/11/06  \n",
            "2  2004/05/29  \n",
            "3  2005/08/26  \n",
            "4  2018/04/30  \n",
            "5  2007/05/25  \n",
            "6  2005/01/05  \n",
            "7  2003/12/12  \n",
            "8  2015/11/14  \n",
            "9  2003/05/15  \n"
          ]
        }
      ]
    },
    {
      "cell_type": "code",
      "source": [
        "oldest_age = df['age'].max()\n",
        "\n",
        "youngest_age = df['age'].min()\n",
        "\n",
        "print(\"Oldest Age:\", oldest_age)\n",
        "print(\"Youngest Age:\", youngest_age)"
      ],
      "metadata": {
        "colab": {
          "base_uri": "https://localhost:8080/"
        },
        "id": "_TbdG7HFQKgK",
        "outputId": "0f22659a-fcb0-4fee-ec17-5ef71c2bcd9e"
      },
      "execution_count": 17,
      "outputs": [
        {
          "output_type": "stream",
          "name": "stdout",
          "text": [
            "Oldest Age: 80\n",
            "Youngest Age: 18\n"
          ]
        }
      ]
    },
    {
      "cell_type": "code",
      "source": [
        "age_stats = df['age'].describe()[['count', 'mean', 'std']]\n",
        "print(age_stats)"
      ],
      "metadata": {
        "colab": {
          "base_uri": "https://localhost:8080/"
        },
        "id": "vwsXngNbRUK2",
        "outputId": "bbc4186f-7db9-4f00-8640-9e21629312a9"
      },
      "execution_count": 18,
      "outputs": [
        {
          "output_type": "stream",
          "name": "stdout",
          "text": [
            "count    2357.000000\n",
            "mean       49.054731\n",
            "std        18.206348\n",
            "Name: age, dtype: float64\n"
          ]
        }
      ]
    },
    {
      "cell_type": "code",
      "source": [
        "extract_surname = lambda x: x.split()[-1]\n",
        "\n",
        "df['surname'] = df['name'].apply(extract_surname)"
      ],
      "metadata": {
        "id": "VCwiwu3iRzvP"
      },
      "execution_count": 19,
      "outputs": []
    },
    {
      "cell_type": "code",
      "source": [
        "print(df.tail(10))"
      ],
      "metadata": {
        "colab": {
          "base_uri": "https://localhost:8080/"
        },
        "id": "Jtr7PNqyR7tf",
        "outputId": "f1156672-0b95-4e5f-fe1d-d0c199eebcb5"
      },
      "execution_count": 21,
      "outputs": [
        {
          "output_type": "stream",
          "name": "stdout",
          "text": [
            "      user_id                 name  gender  age                    address  \\\n",
            "2347     2348     Victoria Edwards  female   68    Lake Jamesberg-NY-88824   \n",
            "2348     2349          Chris Ellis    male   46  Port Richardside-NY-77994   \n",
            "2349     2350       Kimberly Smith  female   19      East Anthony-GA-00646   \n",
            "2350     2351       William Nelson    male   67   Lake Parkerside-MN-06905   \n",
            "2351     2352          Nancy Clark  female   80        Jamesshire-AK-88437   \n",
            "2352     2353      Brittney Graham  female   40         Brownland-CO-71229   \n",
            "2353     2354      Allison Schmidt  female   43        Port Logan-MD-38588   \n",
            "2354     2355  Christopher Johnson    male   68   North Justinton-VA-32798   \n",
            "2355     2356           Mark Brown    male   67    New Kayleefurt-MA-82581   \n",
            "2356     2357      Steven Robinson    male   45         Mistytown-HI-31737   \n",
            "\n",
            "     date_joined   surname  \n",
            "2347  2001/09/03   Edwards  \n",
            "2348  2011/03/18     Ellis  \n",
            "2349  2021/06/20     Smith  \n",
            "2350  2005/12/21    Nelson  \n",
            "2351  2001/12/12     Clark  \n",
            "2352  2005/07/10    Graham  \n",
            "2353  2008/11/30   Schmidt  \n",
            "2354  2006/08/01   Johnson  \n",
            "2355  2013/11/16     Brown  \n",
            "2356  2015/03/21  Robinson  \n"
          ]
        }
      ]
    },
    {
      "cell_type": "code",
      "source": [
        "df['date_joined'] = pd.to_datetime(df['date_joined'])"
      ],
      "metadata": {
        "id": "QSC5FxIKVOS1"
      },
      "execution_count": 22,
      "outputs": []
    }
  ]
}